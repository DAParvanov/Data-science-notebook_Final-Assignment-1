{
  "metadata": {
    "kernelspec": {
      "name": "python",
      "display_name": "Python (Pyodide)",
      "language": "python"
    },
    "language_info": {
      "codemirror_mode": {
        "name": "python",
        "version": 3
      },
      "file_extension": ".py",
      "mimetype": "text/x-python",
      "name": "python",
      "nbconvert_exporter": "python",
      "pygments_lexer": "ipython3",
      "version": "3.8"
    }
  },
  "nbformat_minor": 5,
  "nbformat": 4,
  "cells": [
    {
      "id": "8678d445-1998-4e71-ad9f-8c1993dde3f0",
      "cell_type": "markdown",
      "source": "# Data Science Tools and Ecosystem\n",
      "metadata": {}
    },
    {
      "id": "46d70ac5-8f6f-46f8-85a3-99241b307155",
      "cell_type": "markdown",
      "source": "## Author\nDimitar Parvanov",
      "metadata": {}
    },
    {
      "id": "f37e5d64-cb0d-4c27-b600-327d4477baf6",
      "cell_type": "markdown",
      "source": "**In this notebook, Data Science Tools and Ecosystem are summarized.**",
      "metadata": {}
    },
    {
      "id": "d046d9ea-f4d9-4bcc-9214-e3c8e60ced66",
      "cell_type": "markdown",
      "source": "**Objectives:**\n\n- List popular languages for Data Science  \n- Identify open-source development environments used in Data Science  \n- Evaluate arithmetic expressions in Python  \n- Convert units using Python code  \n- Understand basic Markdown and code cell usage in JupyterLite",
      "metadata": {}
    },
    {
      "id": "f76c3256-9327-4565-8d5e-dbc16e6dcad0",
      "cell_type": "markdown",
      "source": "Some of the popular languages that Data Scientists use are:\n\n1. Python\n2. R\n3. SQL\n4. Java\n5. Julia",
      "metadata": {}
    },
    {
      "id": "0a26b62c-4b8a-4603-945d-0bc488b4a262",
      "cell_type": "markdown",
      "source": "Some of the commonly used libraries used by Data Scientists include:\n1. Python:\n- Pandas\n- matplotlib\n- keras \n2. R:\n- ggplot2\n- dplyr\n- caret",
      "metadata": {}
    },
    {
      "id": "5ccdc0f0-90c3-4f90-b2c2-7f7be833ee39",
      "cell_type": "markdown",
      "source": "| Data Science Tools        |\n|---------------------------|\n| Jupyter Notebooks         |\n| RStudio                   |\n| Apache Zeppelin           |\n",
      "metadata": {}
    },
    {
      "id": "fa7244da-09d2-4c21-90d1-9d37c3197ba4",
      "cell_type": "markdown",
      "source": "### Below are a few examples of evaluating arithmetic expressions in Python",
      "metadata": {}
    },
    {
      "id": "edaf6b73-9d47-4562-b3a7-62bbe45b23db",
      "cell_type": "markdown",
      "source": "This a simple arithmetic expression to mutiply then add integers",
      "metadata": {}
    },
    {
      "id": "bc0bae32-e638-4e16-86cd-13af3a4fafb5",
      "cell_type": "code",
      "source": "(3*4)+5",
      "metadata": {
        "trusted": true
      },
      "outputs": [
        {
          "execution_count": 4,
          "output_type": "execute_result",
          "data": {
            "text/plain": "17"
          },
          "metadata": {}
        }
      ],
      "execution_count": 4
    },
    {
      "id": "179e0d49-98ab-4c17-9fd1-031461bd8fb0",
      "cell_type": "markdown",
      "source": "This will convert 200 minutes to hours by diving by 60.",
      "metadata": {}
    },
    {
      "id": "04e41396-e88f-4cf9-98a6-aa15b5b8fe9b",
      "cell_type": "code",
      "source": "200/60",
      "metadata": {
        "trusted": true
      },
      "outputs": [
        {
          "execution_count": 5,
          "output_type": "execute_result",
          "data": {
            "text/plain": "3.3333333333333335"
          },
          "metadata": {}
        }
      ],
      "execution_count": 5
    }
  ]
}